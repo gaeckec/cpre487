{
 "cells": [
  {
   "cell_type": "markdown",
   "metadata": {},
   "source": [
    "Generate Plot"
   ]
  },
  {
   "cell_type": "code",
   "execution_count": 238,
   "metadata": {},
   "outputs": [
    {
     "name": "stdout",
     "output_type": "stream",
     "text": [
      "3 3 1\n",
      "3 3 3\n",
      "1 1\n"
     ]
    }
   ],
   "source": [
    "import matplotlib.pyplot as plt\n",
    "import numpy as np\n",
    "\n",
    "batch_size = 1\n",
    "stride_size = 1\n",
    "\n",
    "input_height = input_width = 3\n",
    "input_channels = 1\n",
    "\n",
    "filter_height = filter_width = 3\n",
    "\n",
    "output_height = output_width = int((input_height - filter_height + stride_size) / stride_size)\n",
    "output_channels = filter_channels = 3\n",
    "\n",
    "print(input_height, input_width, input_channels)\n",
    "print(filter_height, filter_width, filter_channels)\n",
    "print(output_height, output_width)"
   ]
  },
  {
   "cell_type": "markdown",
   "metadata": {},
   "source": [
    "Plot Input feature map accesses"
   ]
  },
  {
   "cell_type": "code",
   "execution_count": 239,
   "metadata": {},
   "outputs": [],
   "source": [
    "time = 0\n",
    "input_accesses = np.zeros((input_height, input_width, filter_channels))\n",
    "# print(input_accesses)\n",
    "accesses = []\n",
    "times = []\n",
    "\n",
    "\n",
    "for p in range(output_width):\n",
    "    for q in range(output_height):\n",
    "        for m in range(output_channels):\n",
    "            for r in range(filter_height):\n",
    "                input_x = stride_size * p + s\n",
    "                for s in range(filter_width):\n",
    "                    input_y = stride_size * q + r\n",
    "                    for c in range(input_channels):\n",
    "                        # input_accesses[input_x][input_y][c] += 1\n",
    "                        accesses.append(c + input_y * input_channels + input_x * input_channels * input_width)\n",
    "                        times.append(time)\n",
    "                        time += 1\n",
    "\n",
    "# print(time)"
   ]
  },
  {
   "cell_type": "code",
   "execution_count": 240,
   "metadata": {},
   "outputs": [
    {
     "name": "stdout",
     "output_type": "stream",
     "text": [
      "27\n"
     ]
    },
    {
     "data": {
      "image/png": "[encoded data removed]",
      "text/plain": [
       "<Figure size 1080x576 with 1 Axes>"
      ]
     },
     "metadata": {
      "needs_background": "light"
     },
     "output_type": "display_data"
    }
   ],
   "source": [
    "print(time)\n",
    "\n",
    "plt.figure(figsize=[15, 8])\n",
    "# plt.ylabel('')\n",
    "plt.xlabel('Time')\n",
    "\n",
    "plt.scatter(times, accesses)\n",
    "plt.show()"
   ]
  },
  {
   "cell_type": "markdown",
   "metadata": {},
   "source": [
    "Plot output feature map acceses"
   ]
  },
  {
   "cell_type": "code",
   "execution_count": 241,
   "metadata": {},
   "outputs": [],
   "source": [
    "time = 0\n",
    "# output_accesses = np.zeros((input_height, input_width, filter_channels))\n",
    "# print(input_accesses)\n",
    "accesses = []\n",
    "times = []\n",
    "\n",
    "for p in range(output_width):\n",
    "    for q in range(output_height):\n",
    "        for m in range(output_channels):\n",
    "            for r in range(filter_height):\n",
    "                input_x = stride_size * p + s\n",
    "                for s in range(filter_width):\n",
    "                    input_y = stride_size * q + r\n",
    "                    for c in range(input_channels):\n",
    "                        # output_accesses[p][q][m] += 1\n",
    "                        accesses.append(m + q * output_channels + p * output_channels * output_width)\n",
    "                        times.append(time)\n",
    "                        time += 1\n",
    "\n",
    "            # accesses.append(m + q * output_width + p * output_width * output_height)\n",
    "            # times.append(time)\n",
    "            # time += 1\n",
    "\n",
    "# print(time)"
   ]
  },
  {
   "cell_type": "code",
   "execution_count": 242,
   "metadata": {},
   "outputs": [
    {
     "name": "stdout",
     "output_type": "stream",
     "text": [
      "27\n"
     ]
    },
    {
     "data": {
      "image/png": "[encoded data removed]",
      "text/plain": [
       "<Figure size 1080x576 with 1 Axes>"
      ]
     },
     "metadata": {
      "needs_background": "light"
     },
     "output_type": "display_data"
    }
   ],
   "source": [
    "print(time)\n",
    "\n",
    "plt.figure(figsize=[15, 8])\n",
    "# plt.ylabel('Num Acceses')\n",
    "plt.xlabel('')\n",
    "\n",
    "plt.scatter(times, accesses)\n",
    "plt.show()"
   ]
  },
  {
   "cell_type": "markdown",
   "metadata": {},
   "source": [
    "Plot weight feature map accesses"
   ]
  },
  {
   "cell_type": "code",
   "execution_count": 243,
   "metadata": {},
   "outputs": [],
   "source": [
    "time = 0\n",
    "# output_accesses = np.zeros((input_height, input_width, filter_channels))\n",
    "# print(input_accesses)\n",
    "accesses = []\n",
    "times = []\n",
    "\n",
    "\n",
    "for p in range(output_width):\n",
    "    for q in range(output_height):\n",
    "        for m in range(output_channels):\n",
    "            for r in range(filter_height):\n",
    "                input_x = stride_size * p + s\n",
    "                for s in range(filter_width):\n",
    "                    input_y = stride_size * q + r\n",
    "                    for c in range(input_channels):\n",
    "                        # weight_accesses[s][r][c][m] += 1\n",
    "                        accesses.append(m + c * input_channels + r * input_channels * filter_width + s * input_channels * filter_width * filter_height)\n",
    "                        times.append(time)\n",
    "                        time += 1\n",
    "\n",
    "# for m in range(output_channels):\n",
    "#     for c in range(input_channels):\n",
    "#         for r in range(filter_height):\n",
    "#             for s in range(filter_width):\n",
    "#                 for p in range(output_height):\n",
    "#                     for q in range(output_width):\n",
    "#                         h = p * stride_size + r\n",
    "#                         w = q * stride_size + s\n",
    "\n",
    "#                         accesses.append(m + c * output_channels + r * output_channels * input_channels + s * output_channels * input_channels * filter_height)\n",
    "#                         times.append(time)\n",
    "#                         time += 1\n",
    "\n",
    "                            \n",
    "# print(time)"
   ]
  },
  {
   "cell_type": "code",
   "execution_count": 244,
   "metadata": {},
   "outputs": [
    {
     "name": "stdout",
     "output_type": "stream",
     "text": [
      "27\n"
     ]
    },
    {
     "data": {
      "image/png": "[encoded data removed]",
      "text/plain": [
       "<Figure size 1080x576 with 1 Axes>"
      ]
     },
     "metadata": {
      "needs_background": "light"
     },
     "output_type": "display_data"
    }
   ],
   "source": [
    "print(time)\n",
    "\n",
    "plt.figure(figsize=[15, 8])\n",
    "# plt.ylabel('Num Acceses')\n",
    "plt.xlabel('')\n",
    "\n",
    "plt.scatter(times, accesses)\n",
    "plt.show()"
   ]
  }
 ],
 "metadata": {
  "kernelspec": {
   "display_name": "Python 3.6.8 ('venv': venv)",
   "language": "python",
   "name": "python3"
  },
  "language_info": {
   "codemirror_mode": {
    "name": "ipython",
    "version": 3
   },
   "file_extension": ".py",
   "mimetype": "text/x-python",
   "name": "python",
   "nbconvert_exporter": "python",
   "pygments_lexer": "ipython3",
   "version": "3.6.8"
  },
  "orig_nbformat": 4,
  "vscode": {
   "interpreter": {
    "hash": "471d90b1d813ad9defe436cd1e2a4bb4b4e6d1ab05d40e09d9b9d14204975e80"
   }
  }
 },
 "nbformat": 4,
 "nbformat_minor": 2
}
